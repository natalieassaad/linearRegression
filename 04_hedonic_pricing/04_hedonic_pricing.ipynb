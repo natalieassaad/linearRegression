{
  "cells": [
    {
      "cell_type": "markdown",
      "metadata": {
        "vscode": {
          "languageId": "bat"
        },
        "id": "Fr42Ch1Q7B1m"
      },
      "source": [
        "# Hedonic Pricing\n",
        "\n",
        "We often try to predict the price of an asset from its observable characteristics. This is generally called **hedonic pricing**: How do the unit's characteristics determine its market price?\n",
        "\n",
        "In the lab folder, there are three options: housing prices in pierce_county_house_sales.csv, car prices in cars_hw.csv, and airbnb rental prices in airbnb_hw.csv. If you know of another suitable dataset, please feel free to use that one.\n",
        "\n",
        "1. Clean the data and perform some EDA and visualization to get to know the data set.\n",
        "2. Transform your variables --- particularly categorical ones --- for use in your regression analysis.\n",
        "3. Implement an ~80/~20 train-test split. Put the test data aside.\n",
        "4. Build some simple linear models that include no transformations or interactions. Fit them, and determine their RMSE and $R^2$ on the both the training and test sets. Which of your models does the best?\n",
        "5. Include transformations and interactions, and build a more complex model that reflects your ideas about how the features of the asset determine its value. Determine its RMSE and $R^2$ on the training and test sets. How does the more complex model your build compare to the simpler ones?\n",
        "6. Summarize your results from 1 to 5. Have you learned anything about overfitting and underfitting, or model selection?\n",
        "7. If you have time, use the sklearn.linear_model.Lasso to regularize your model and select the most predictive features. Which does it select? What are the RMSE and $R^2$? We'll cover the Lasso later in detail in class.\n",
        "\n"
      ]
    },
    {
      "cell_type": "markdown",
      "source": [
        "transformation ideas\n",
        "- pierce county -- might want to compute bedrooms divided by bathroom, could better understand the ratio\n",
        "- airbnb - for price -- string replace commas and coerce to numeric, plug in the mean for review scores or drop\n",
        "\n",
        "\n",
        "lasso throws away highly correlated predictors"
      ],
      "metadata": {
        "id": "Eh4Pl1558CT9"
      }
    },
    {
      "cell_type": "code",
      "source": [
        "# 1. Clean the data and perform some EDA and visualization to get to know the data set.\n",
        "# 2. Transform your variables --- particularly categorical ones --- for use in your regression analysis."
      ],
      "metadata": {
        "id": "dk8zfXdMk7wF"
      },
      "execution_count": null,
      "outputs": []
    },
    {
      "cell_type": "code",
      "source": [
        "import pandas as pd\n",
        "import numpy as np\n",
        "import matplotlib.pyplot as plt\n",
        "import seaborn as sns\n",
        "from sklearn import linear_model\n",
        "from sklearn.model_selection import train_test_split\n",
        "\n",
        "\n",
        "df = pd.read_csv('/content/cars_hw.csv')"
      ],
      "metadata": {
        "id": "fbmeB9dc9VYW"
      },
      "execution_count": 45,
      "outputs": []
    },
    {
      "cell_type": "code",
      "source": [
        "df.head() # data seems pretty clean"
      ],
      "metadata": {
        "id": "NoaPu6xf9lsn",
        "outputId": "fb7cbe2a-4f6d-48fb-846e-4faca08486f6",
        "colab": {
          "base_uri": "https://localhost:8080/",
          "height": 244
        }
      },
      "execution_count": 10,
      "outputs": [
        {
          "output_type": "execute_result",
          "data": {
            "text/plain": [
              "   Unnamed: 0        Make  Make_Year   Color  Body_Type  Mileage_Run  \\\n",
              "0           1  Volkswagen       2017  silver      sedan        44611   \n",
              "1           2     Hyundai       2016     red  crossover        20305   \n",
              "2           3       Honda       2019   white        suv        29540   \n",
              "3           4     Renault       2017  bronze  hatchback        35680   \n",
              "4           5     Hyundai       2017  orange  hatchback        25126   \n",
              "\n",
              "  No_of_Owners  Seating_Capacity Fuel_Type Transmission Transmission_Type  \\\n",
              "0          1st                 5    diesel      7-Speed         Automatic   \n",
              "1          1st                 5    petrol      5-Speed            Manual   \n",
              "2          2nd                 5    petrol      5-Speed            Manual   \n",
              "3          1st                 5    petrol      5-Speed            Manual   \n",
              "4          1st                 5    petrol      5-Speed            Manual   \n",
              "\n",
              "    Price  \n",
              "0  657000  \n",
              "1  682000  \n",
              "2  793000  \n",
              "3  414000  \n",
              "4  515000  "
            ],
            "text/html": [
              "\n",
              "  <div id=\"df-6467665a-86a6-4b48-90e2-2a0ef5c798cd\" class=\"colab-df-container\">\n",
              "    <div>\n",
              "<style scoped>\n",
              "    .dataframe tbody tr th:only-of-type {\n",
              "        vertical-align: middle;\n",
              "    }\n",
              "\n",
              "    .dataframe tbody tr th {\n",
              "        vertical-align: top;\n",
              "    }\n",
              "\n",
              "    .dataframe thead th {\n",
              "        text-align: right;\n",
              "    }\n",
              "</style>\n",
              "<table border=\"1\" class=\"dataframe\">\n",
              "  <thead>\n",
              "    <tr style=\"text-align: right;\">\n",
              "      <th></th>\n",
              "      <th>Unnamed: 0</th>\n",
              "      <th>Make</th>\n",
              "      <th>Make_Year</th>\n",
              "      <th>Color</th>\n",
              "      <th>Body_Type</th>\n",
              "      <th>Mileage_Run</th>\n",
              "      <th>No_of_Owners</th>\n",
              "      <th>Seating_Capacity</th>\n",
              "      <th>Fuel_Type</th>\n",
              "      <th>Transmission</th>\n",
              "      <th>Transmission_Type</th>\n",
              "      <th>Price</th>\n",
              "    </tr>\n",
              "  </thead>\n",
              "  <tbody>\n",
              "    <tr>\n",
              "      <th>0</th>\n",
              "      <td>1</td>\n",
              "      <td>Volkswagen</td>\n",
              "      <td>2017</td>\n",
              "      <td>silver</td>\n",
              "      <td>sedan</td>\n",
              "      <td>44611</td>\n",
              "      <td>1st</td>\n",
              "      <td>5</td>\n",
              "      <td>diesel</td>\n",
              "      <td>7-Speed</td>\n",
              "      <td>Automatic</td>\n",
              "      <td>657000</td>\n",
              "    </tr>\n",
              "    <tr>\n",
              "      <th>1</th>\n",
              "      <td>2</td>\n",
              "      <td>Hyundai</td>\n",
              "      <td>2016</td>\n",
              "      <td>red</td>\n",
              "      <td>crossover</td>\n",
              "      <td>20305</td>\n",
              "      <td>1st</td>\n",
              "      <td>5</td>\n",
              "      <td>petrol</td>\n",
              "      <td>5-Speed</td>\n",
              "      <td>Manual</td>\n",
              "      <td>682000</td>\n",
              "    </tr>\n",
              "    <tr>\n",
              "      <th>2</th>\n",
              "      <td>3</td>\n",
              "      <td>Honda</td>\n",
              "      <td>2019</td>\n",
              "      <td>white</td>\n",
              "      <td>suv</td>\n",
              "      <td>29540</td>\n",
              "      <td>2nd</td>\n",
              "      <td>5</td>\n",
              "      <td>petrol</td>\n",
              "      <td>5-Speed</td>\n",
              "      <td>Manual</td>\n",
              "      <td>793000</td>\n",
              "    </tr>\n",
              "    <tr>\n",
              "      <th>3</th>\n",
              "      <td>4</td>\n",
              "      <td>Renault</td>\n",
              "      <td>2017</td>\n",
              "      <td>bronze</td>\n",
              "      <td>hatchback</td>\n",
              "      <td>35680</td>\n",
              "      <td>1st</td>\n",
              "      <td>5</td>\n",
              "      <td>petrol</td>\n",
              "      <td>5-Speed</td>\n",
              "      <td>Manual</td>\n",
              "      <td>414000</td>\n",
              "    </tr>\n",
              "    <tr>\n",
              "      <th>4</th>\n",
              "      <td>5</td>\n",
              "      <td>Hyundai</td>\n",
              "      <td>2017</td>\n",
              "      <td>orange</td>\n",
              "      <td>hatchback</td>\n",
              "      <td>25126</td>\n",
              "      <td>1st</td>\n",
              "      <td>5</td>\n",
              "      <td>petrol</td>\n",
              "      <td>5-Speed</td>\n",
              "      <td>Manual</td>\n",
              "      <td>515000</td>\n",
              "    </tr>\n",
              "  </tbody>\n",
              "</table>\n",
              "</div>\n",
              "    <div class=\"colab-df-buttons\">\n",
              "\n",
              "  <div class=\"colab-df-container\">\n",
              "    <button class=\"colab-df-convert\" onclick=\"convertToInteractive('df-6467665a-86a6-4b48-90e2-2a0ef5c798cd')\"\n",
              "            title=\"Convert this dataframe to an interactive table.\"\n",
              "            style=\"display:none;\">\n",
              "\n",
              "  <svg xmlns=\"http://www.w3.org/2000/svg\" height=\"24px\" viewBox=\"0 -960 960 960\">\n",
              "    <path d=\"M120-120v-720h720v720H120Zm60-500h600v-160H180v160Zm220 220h160v-160H400v160Zm0 220h160v-160H400v160ZM180-400h160v-160H180v160Zm440 0h160v-160H620v160ZM180-180h160v-160H180v160Zm440 0h160v-160H620v160Z\"/>\n",
              "  </svg>\n",
              "    </button>\n",
              "\n",
              "  <style>\n",
              "    .colab-df-container {\n",
              "      display:flex;\n",
              "      gap: 12px;\n",
              "    }\n",
              "\n",
              "    .colab-df-convert {\n",
              "      background-color: #E8F0FE;\n",
              "      border: none;\n",
              "      border-radius: 50%;\n",
              "      cursor: pointer;\n",
              "      display: none;\n",
              "      fill: #1967D2;\n",
              "      height: 32px;\n",
              "      padding: 0 0 0 0;\n",
              "      width: 32px;\n",
              "    }\n",
              "\n",
              "    .colab-df-convert:hover {\n",
              "      background-color: #E2EBFA;\n",
              "      box-shadow: 0px 1px 2px rgba(60, 64, 67, 0.3), 0px 1px 3px 1px rgba(60, 64, 67, 0.15);\n",
              "      fill: #174EA6;\n",
              "    }\n",
              "\n",
              "    .colab-df-buttons div {\n",
              "      margin-bottom: 4px;\n",
              "    }\n",
              "\n",
              "    [theme=dark] .colab-df-convert {\n",
              "      background-color: #3B4455;\n",
              "      fill: #D2E3FC;\n",
              "    }\n",
              "\n",
              "    [theme=dark] .colab-df-convert:hover {\n",
              "      background-color: #434B5C;\n",
              "      box-shadow: 0px 1px 3px 1px rgba(0, 0, 0, 0.15);\n",
              "      filter: drop-shadow(0px 1px 2px rgba(0, 0, 0, 0.3));\n",
              "      fill: #FFFFFF;\n",
              "    }\n",
              "  </style>\n",
              "\n",
              "    <script>\n",
              "      const buttonEl =\n",
              "        document.querySelector('#df-6467665a-86a6-4b48-90e2-2a0ef5c798cd button.colab-df-convert');\n",
              "      buttonEl.style.display =\n",
              "        google.colab.kernel.accessAllowed ? 'block' : 'none';\n",
              "\n",
              "      async function convertToInteractive(key) {\n",
              "        const element = document.querySelector('#df-6467665a-86a6-4b48-90e2-2a0ef5c798cd');\n",
              "        const dataTable =\n",
              "          await google.colab.kernel.invokeFunction('convertToInteractive',\n",
              "                                                    [key], {});\n",
              "        if (!dataTable) return;\n",
              "\n",
              "        const docLinkHtml = 'Like what you see? Visit the ' +\n",
              "          '<a target=\"_blank\" href=https://colab.research.google.com/notebooks/data_table.ipynb>data table notebook</a>'\n",
              "          + ' to learn more about interactive tables.';\n",
              "        element.innerHTML = '';\n",
              "        dataTable['output_type'] = 'display_data';\n",
              "        await google.colab.output.renderOutput(dataTable, element);\n",
              "        const docLink = document.createElement('div');\n",
              "        docLink.innerHTML = docLinkHtml;\n",
              "        element.appendChild(docLink);\n",
              "      }\n",
              "    </script>\n",
              "  </div>\n",
              "\n",
              "\n",
              "<div id=\"df-98124e95-da01-4429-a114-eee4529dac23\">\n",
              "  <button class=\"colab-df-quickchart\" onclick=\"quickchart('df-98124e95-da01-4429-a114-eee4529dac23')\"\n",
              "            title=\"Suggest charts\"\n",
              "            style=\"display:none;\">\n",
              "\n",
              "<svg xmlns=\"http://www.w3.org/2000/svg\" height=\"24px\"viewBox=\"0 0 24 24\"\n",
              "     width=\"24px\">\n",
              "    <g>\n",
              "        <path d=\"M19 3H5c-1.1 0-2 .9-2 2v14c0 1.1.9 2 2 2h14c1.1 0 2-.9 2-2V5c0-1.1-.9-2-2-2zM9 17H7v-7h2v7zm4 0h-2V7h2v10zm4 0h-2v-4h2v4z\"/>\n",
              "    </g>\n",
              "</svg>\n",
              "  </button>\n",
              "\n",
              "<style>\n",
              "  .colab-df-quickchart {\n",
              "      --bg-color: #E8F0FE;\n",
              "      --fill-color: #1967D2;\n",
              "      --hover-bg-color: #E2EBFA;\n",
              "      --hover-fill-color: #174EA6;\n",
              "      --disabled-fill-color: #AAA;\n",
              "      --disabled-bg-color: #DDD;\n",
              "  }\n",
              "\n",
              "  [theme=dark] .colab-df-quickchart {\n",
              "      --bg-color: #3B4455;\n",
              "      --fill-color: #D2E3FC;\n",
              "      --hover-bg-color: #434B5C;\n",
              "      --hover-fill-color: #FFFFFF;\n",
              "      --disabled-bg-color: #3B4455;\n",
              "      --disabled-fill-color: #666;\n",
              "  }\n",
              "\n",
              "  .colab-df-quickchart {\n",
              "    background-color: var(--bg-color);\n",
              "    border: none;\n",
              "    border-radius: 50%;\n",
              "    cursor: pointer;\n",
              "    display: none;\n",
              "    fill: var(--fill-color);\n",
              "    height: 32px;\n",
              "    padding: 0;\n",
              "    width: 32px;\n",
              "  }\n",
              "\n",
              "  .colab-df-quickchart:hover {\n",
              "    background-color: var(--hover-bg-color);\n",
              "    box-shadow: 0 1px 2px rgba(60, 64, 67, 0.3), 0 1px 3px 1px rgba(60, 64, 67, 0.15);\n",
              "    fill: var(--button-hover-fill-color);\n",
              "  }\n",
              "\n",
              "  .colab-df-quickchart-complete:disabled,\n",
              "  .colab-df-quickchart-complete:disabled:hover {\n",
              "    background-color: var(--disabled-bg-color);\n",
              "    fill: var(--disabled-fill-color);\n",
              "    box-shadow: none;\n",
              "  }\n",
              "\n",
              "  .colab-df-spinner {\n",
              "    border: 2px solid var(--fill-color);\n",
              "    border-color: transparent;\n",
              "    border-bottom-color: var(--fill-color);\n",
              "    animation:\n",
              "      spin 1s steps(1) infinite;\n",
              "  }\n",
              "\n",
              "  @keyframes spin {\n",
              "    0% {\n",
              "      border-color: transparent;\n",
              "      border-bottom-color: var(--fill-color);\n",
              "      border-left-color: var(--fill-color);\n",
              "    }\n",
              "    20% {\n",
              "      border-color: transparent;\n",
              "      border-left-color: var(--fill-color);\n",
              "      border-top-color: var(--fill-color);\n",
              "    }\n",
              "    30% {\n",
              "      border-color: transparent;\n",
              "      border-left-color: var(--fill-color);\n",
              "      border-top-color: var(--fill-color);\n",
              "      border-right-color: var(--fill-color);\n",
              "    }\n",
              "    40% {\n",
              "      border-color: transparent;\n",
              "      border-right-color: var(--fill-color);\n",
              "      border-top-color: var(--fill-color);\n",
              "    }\n",
              "    60% {\n",
              "      border-color: transparent;\n",
              "      border-right-color: var(--fill-color);\n",
              "    }\n",
              "    80% {\n",
              "      border-color: transparent;\n",
              "      border-right-color: var(--fill-color);\n",
              "      border-bottom-color: var(--fill-color);\n",
              "    }\n",
              "    90% {\n",
              "      border-color: transparent;\n",
              "      border-bottom-color: var(--fill-color);\n",
              "    }\n",
              "  }\n",
              "</style>\n",
              "\n",
              "  <script>\n",
              "    async function quickchart(key) {\n",
              "      const quickchartButtonEl =\n",
              "        document.querySelector('#' + key + ' button');\n",
              "      quickchartButtonEl.disabled = true;  // To prevent multiple clicks.\n",
              "      quickchartButtonEl.classList.add('colab-df-spinner');\n",
              "      try {\n",
              "        const charts = await google.colab.kernel.invokeFunction(\n",
              "            'suggestCharts', [key], {});\n",
              "      } catch (error) {\n",
              "        console.error('Error during call to suggestCharts:', error);\n",
              "      }\n",
              "      quickchartButtonEl.classList.remove('colab-df-spinner');\n",
              "      quickchartButtonEl.classList.add('colab-df-quickchart-complete');\n",
              "    }\n",
              "    (() => {\n",
              "      let quickchartButtonEl =\n",
              "        document.querySelector('#df-98124e95-da01-4429-a114-eee4529dac23 button');\n",
              "      quickchartButtonEl.style.display =\n",
              "        google.colab.kernel.accessAllowed ? 'block' : 'none';\n",
              "    })();\n",
              "  </script>\n",
              "</div>\n",
              "\n",
              "    </div>\n",
              "  </div>\n"
            ],
            "application/vnd.google.colaboratory.intrinsic+json": {
              "type": "dataframe",
              "variable_name": "df",
              "summary": "{\n  \"name\": \"df\",\n  \"rows\": 976,\n  \"fields\": [\n    {\n      \"column\": \"Unnamed: 0\",\n      \"properties\": {\n        \"dtype\": \"number\",\n        \"std\": 281,\n        \"min\": 1,\n        \"max\": 976,\n        \"num_unique_values\": 976,\n        \"samples\": [\n          200,\n          542,\n          175\n        ],\n        \"semantic_type\": \"\",\n        \"description\": \"\"\n      }\n    },\n    {\n      \"column\": \"Make\",\n      \"properties\": {\n        \"dtype\": \"category\",\n        \"num_unique_values\": 16,\n        \"samples\": [\n          \"Volkswagen\",\n          \"Hyundai\",\n          \"Chevrolet\"\n        ],\n        \"semantic_type\": \"\",\n        \"description\": \"\"\n      }\n    },\n    {\n      \"column\": \"Make_Year\",\n      \"properties\": {\n        \"dtype\": \"number\",\n        \"std\": 2,\n        \"min\": 2011,\n        \"max\": 2022,\n        \"num_unique_values\": 12,\n        \"samples\": [\n          2011,\n          2014,\n          2017\n        ],\n        \"semantic_type\": \"\",\n        \"description\": \"\"\n      }\n    },\n    {\n      \"column\": \"Color\",\n      \"properties\": {\n        \"dtype\": \"category\",\n        \"num_unique_values\": 15,\n        \"samples\": [\n          \"brown\",\n          \"black\",\n          \"silver\"\n        ],\n        \"semantic_type\": \"\",\n        \"description\": \"\"\n      }\n    },\n    {\n      \"column\": \"Body_Type\",\n      \"properties\": {\n        \"dtype\": \"category\",\n        \"num_unique_values\": 5,\n        \"samples\": [\n          \"crossover\",\n          \"muv\",\n          \"suv\"\n        ],\n        \"semantic_type\": \"\",\n        \"description\": \"\"\n      }\n    },\n    {\n      \"column\": \"Mileage_Run\",\n      \"properties\": {\n        \"dtype\": \"number\",\n        \"std\": 24390,\n        \"min\": 1117,\n        \"max\": 99495,\n        \"num_unique_values\": 878,\n        \"samples\": [\n          16240,\n          23724,\n          43273\n        ],\n        \"semantic_type\": \"\",\n        \"description\": \"\"\n      }\n    },\n    {\n      \"column\": \"No_of_Owners\",\n      \"properties\": {\n        \"dtype\": \"category\",\n        \"num_unique_values\": 3,\n        \"samples\": [\n          \"1st\",\n          \"2nd\",\n          \"3rd\"\n        ],\n        \"semantic_type\": \"\",\n        \"description\": \"\"\n      }\n    },\n    {\n      \"column\": \"Seating_Capacity\",\n      \"properties\": {\n        \"dtype\": \"number\",\n        \"std\": 0,\n        \"min\": 4,\n        \"max\": 8,\n        \"num_unique_values\": 5,\n        \"samples\": [\n          7,\n          4,\n          8\n        ],\n        \"semantic_type\": \"\",\n        \"description\": \"\"\n      }\n    },\n    {\n      \"column\": \"Fuel_Type\",\n      \"properties\": {\n        \"dtype\": \"category\",\n        \"num_unique_values\": 3,\n        \"samples\": [\n          \"diesel\",\n          \"petrol\",\n          \"petrol+cng\"\n        ],\n        \"semantic_type\": \"\",\n        \"description\": \"\"\n      }\n    },\n    {\n      \"column\": \"Transmission\",\n      \"properties\": {\n        \"dtype\": \"category\",\n        \"num_unique_values\": 5,\n        \"samples\": [\n          \"5-Speed\",\n          \"4-Speed\",\n          \"6-Speed\"\n        ],\n        \"semantic_type\": \"\",\n        \"description\": \"\"\n      }\n    },\n    {\n      \"column\": \"Transmission_Type\",\n      \"properties\": {\n        \"dtype\": \"category\",\n        \"num_unique_values\": 2,\n        \"samples\": [\n          \"Manual\",\n          \"Automatic\"\n        ],\n        \"semantic_type\": \"\",\n        \"description\": \"\"\n      }\n    },\n    {\n      \"column\": \"Price\",\n      \"properties\": {\n        \"dtype\": \"number\",\n        \"std\": 367323,\n        \"min\": 188000,\n        \"max\": 2941000,\n        \"num_unique_values\": 585,\n        \"samples\": [\n          423000,\n          290000\n        ],\n        \"semantic_type\": \"\",\n        \"description\": \"\"\n      }\n    }\n  ]\n}"
            }
          },
          "metadata": {},
          "execution_count": 10
        }
      ]
    },
    {
      "cell_type": "code",
      "source": [
        "df['Body_Type'].unique()"
      ],
      "metadata": {
        "colab": {
          "base_uri": "https://localhost:8080/"
        },
        "id": "iEh-jsgZfVfU",
        "outputId": "dc664748-ba5c-49fe-9271-33b2de124349"
      },
      "execution_count": 25,
      "outputs": [
        {
          "output_type": "execute_result",
          "data": {
            "text/plain": [
              "array(['suv', 'hatchback', 'muv', 'sedan', 'crossover'], dtype=object)"
            ]
          },
          "metadata": {},
          "execution_count": 25
        }
      ]
    },
    {
      "cell_type": "code",
      "source": [
        "df.isnull().sum()"
      ],
      "metadata": {
        "colab": {
          "base_uri": "https://localhost:8080/",
          "height": 523
        },
        "id": "-URmkDOefauu",
        "outputId": "7b8f49c3-b327-46fa-9555-4f9221b887f5"
      },
      "execution_count": 27,
      "outputs": [
        {
          "output_type": "execute_result",
          "data": {
            "text/plain": [
              "Unnamed: 0           0\n",
              "Make                 0\n",
              "Make_Year            0\n",
              "Color                0\n",
              "Body_Type            0\n",
              "Mileage_Run          0\n",
              "No_of_Owners         0\n",
              "Seating_Capacity     0\n",
              "Fuel_Type            0\n",
              "Transmission         0\n",
              "Transmission_Type    0\n",
              "Price                0\n",
              "age                  0\n",
              "price_ihs            0\n",
              "dtype: int64"
            ],
            "text/html": [
              "<div>\n",
              "<style scoped>\n",
              "    .dataframe tbody tr th:only-of-type {\n",
              "        vertical-align: middle;\n",
              "    }\n",
              "\n",
              "    .dataframe tbody tr th {\n",
              "        vertical-align: top;\n",
              "    }\n",
              "\n",
              "    .dataframe thead th {\n",
              "        text-align: right;\n",
              "    }\n",
              "</style>\n",
              "<table border=\"1\" class=\"dataframe\">\n",
              "  <thead>\n",
              "    <tr style=\"text-align: right;\">\n",
              "      <th></th>\n",
              "      <th>0</th>\n",
              "    </tr>\n",
              "  </thead>\n",
              "  <tbody>\n",
              "    <tr>\n",
              "      <th>Unnamed: 0</th>\n",
              "      <td>0</td>\n",
              "    </tr>\n",
              "    <tr>\n",
              "      <th>Make</th>\n",
              "      <td>0</td>\n",
              "    </tr>\n",
              "    <tr>\n",
              "      <th>Make_Year</th>\n",
              "      <td>0</td>\n",
              "    </tr>\n",
              "    <tr>\n",
              "      <th>Color</th>\n",
              "      <td>0</td>\n",
              "    </tr>\n",
              "    <tr>\n",
              "      <th>Body_Type</th>\n",
              "      <td>0</td>\n",
              "    </tr>\n",
              "    <tr>\n",
              "      <th>Mileage_Run</th>\n",
              "      <td>0</td>\n",
              "    </tr>\n",
              "    <tr>\n",
              "      <th>No_of_Owners</th>\n",
              "      <td>0</td>\n",
              "    </tr>\n",
              "    <tr>\n",
              "      <th>Seating_Capacity</th>\n",
              "      <td>0</td>\n",
              "    </tr>\n",
              "    <tr>\n",
              "      <th>Fuel_Type</th>\n",
              "      <td>0</td>\n",
              "    </tr>\n",
              "    <tr>\n",
              "      <th>Transmission</th>\n",
              "      <td>0</td>\n",
              "    </tr>\n",
              "    <tr>\n",
              "      <th>Transmission_Type</th>\n",
              "      <td>0</td>\n",
              "    </tr>\n",
              "    <tr>\n",
              "      <th>Price</th>\n",
              "      <td>0</td>\n",
              "    </tr>\n",
              "    <tr>\n",
              "      <th>age</th>\n",
              "      <td>0</td>\n",
              "    </tr>\n",
              "    <tr>\n",
              "      <th>price_ihs</th>\n",
              "      <td>0</td>\n",
              "    </tr>\n",
              "  </tbody>\n",
              "</table>\n",
              "</div><br><label><b>dtype:</b> int64</label>"
            ]
          },
          "metadata": {},
          "execution_count": 27
        }
      ]
    },
    {
      "cell_type": "code",
      "source": [
        "df['Price'].hist(bins=20)"
      ],
      "metadata": {
        "colab": {
          "base_uri": "https://localhost:8080/",
          "height": 466
        },
        "id": "iZp2eXqqc1mE",
        "outputId": "2cba27a0-93f0-4d17-9c7c-04c7961f2777"
      },
      "execution_count": 11,
      "outputs": [
        {
          "output_type": "execute_result",
          "data": {
            "text/plain": [
              "<Axes: >"
            ]
          },
          "metadata": {},
          "execution_count": 11
        },
        {
          "output_type": "display_data",
          "data": {
            "text/plain": [
              "<Figure size 640x480 with 1 Axes>"
            ],
            "image/png": "[encoded data removed]"
          },
          "metadata": {}
        }
      ]
    },
    {
      "cell_type": "code",
      "source": [
        "df['Make_Year'].hist()"
      ],
      "metadata": {
        "colab": {
          "base_uri": "https://localhost:8080/",
          "height": 448
        },
        "id": "QFEq5k9giFwy",
        "outputId": "94aa465c-2b83-4869-805f-bdd001722656"
      },
      "execution_count": 35,
      "outputs": [
        {
          "output_type": "execute_result",
          "data": {
            "text/plain": [
              "<Axes: >"
            ]
          },
          "metadata": {},
          "execution_count": 35
        },
        {
          "output_type": "display_data",
          "data": {
            "text/plain": [
              "<Figure size 640x480 with 1 Axes>"
            ],
            "image/png": "[encoded data removed]"
          },
          "metadata": {}
        }
      ]
    },
    {
      "cell_type": "code",
      "source": [
        "# 3. Implement an 80/20 train-test split. Put the test data aside."
      ],
      "metadata": {
        "id": "d6SIeRckk0OX"
      },
      "execution_count": null,
      "outputs": []
    },
    {
      "cell_type": "code",
      "source": [
        "from sklearn.model_selection import train_test_split\n",
        "y = df['Price'] # Create target variable vector\n",
        "X = df.loc[:,['Make_Year']] # Create feature matrix\n",
        "\n",
        "# might want to take log or inverse hyperbolic sine of price\n",
        "\n",
        "X_train, X_test, y_train, y_test = train_test_split(X,y, # Feature and target variables\n",
        "                                                    test_size=.2, # Split the sample 80 train/ 20 test\n",
        "                                                    random_state=100) # For replication purposes\n",
        "\n",
        "\n",
        "Z_train = pd.concat([X_train['Make_Year'],\n",
        "                     pd.get_dummies(X_train['Neighbourhood '], dtype='int')], axis = 1)\n",
        "Z_test = pd.concat([X_test['Review Scores Rating'],\n",
        "                    pd.get_dummies(X_test['Neighbourhood '], dtype='int')], axis = 1)\n",
        "\n",
        "reg = linear_model.LinearRegression(fit_intercept=False).fit(Z_train,y_train) # Run regression\n",
        "\n",
        "y_hat = reg.predict(Z_test)\n",
        "print('Rsq: ', reg.score(Z_test,y_test)) # R2\n",
        "rmse = np.sqrt( np.mean( (y_test - y_hat)**2 ))\n",
        "print('RMSE: ', rmse) # R2\n",
        "\n",
        "results = pd.DataFrame({'variable':reg.feature_names_in_, 'coefficient': reg.coef_}) # Regression coefficients\n",
        "results"
      ],
      "metadata": {
        "id": "is-PMpAbktTa"
      },
      "execution_count": null,
      "outputs": []
    },
    {
      "cell_type": "code",
      "source": [
        "# 4. Build some simple linear models that include no transformations or interactions.\n",
        "# Fit them, and determine their RMSE and  𝑅2  on the both the training and test sets.\n",
        "# Which of your models does the best?"
      ],
      "metadata": {
        "id": "drwOlt-8lCEf"
      },
      "execution_count": null,
      "outputs": []
    },
    {
      "cell_type": "code",
      "source": [
        "def slr(x,y): # Single Linear Regression Function\n",
        "    x_bar = np.mean(x)\n",
        "    y_bar = np.mean(y)\n",
        "    b1 = np.inner(x-x_bar,y-y_bar)/np.inner(x-x_bar,x)\n",
        "    b0 = y_bar - b1*x_bar\n",
        "    y_hat = b0 + b1*x\n",
        "    residuals = y - y_hat\n",
        "    return({'b0':b0,'b1':b1,'y_hat':y_hat,'residuals':residuals})"
      ],
      "metadata": {
        "id": "z_JD5VJNeYl_"
      },
      "execution_count": 22,
      "outputs": []
    },
    {
      "cell_type": "code",
      "source": [
        "x = df['Make_Year']\n",
        "y = df['Price']\n",
        "\n",
        "coef = slr(x,y)\n",
        "\n",
        "y_hat = coef['b0']+coef['b1']*x\n",
        "plt.scatter(x,y,label='Data')\n",
        "plt.plot(x,y_hat,label='Regression Line',color='black')\n",
        "plt.xlabel(\"Make Year\")\n",
        "plt.ylabel(\"Price\")\n",
        "plt.legend(loc='upper right')\n",
        "\n",
        "plt.show()"
      ],
      "metadata": {
        "colab": {
          "base_uri": "https://localhost:8080/",
          "height": 465
        },
        "id": "7aI20ZXXgAZJ",
        "outputId": "b9b68009-6b56-4a18-bdb5-4d51ca3507a8"
      },
      "execution_count": 41,
      "outputs": [
        {
          "output_type": "display_data",
          "data": {
            "text/plain": [
              "<Figure size 640x480 with 1 Axes>"
            ],
            "image/png": "[encoded data removed]"
          },
          "metadata": {}
        }
      ]
    },
    {
      "cell_type": "code",
      "source": [
        "# 5. Include transformations and interactions, and build a more complex model that reflects your ideas about how the\n",
        "# features of the asset determine its value. Determine its RMSE and  𝑅2  on the training and test sets.\n",
        "# How does the more complex model your build compare to the simpler ones?"
      ],
      "metadata": {
        "id": "rqvK9Yq6lHF2"
      },
      "execution_count": null,
      "outputs": []
    },
    {
      "cell_type": "code",
      "source": [
        "# 6. Summarize your results from 1 to 5. Have you learned anything about overfitting and underfitting, or model selection?"
      ],
      "metadata": {
        "id": "wk3T6ugrlK8N"
      },
      "execution_count": null,
      "outputs": []
    },
    {
      "cell_type": "code",
      "source": [
        "# 7. If you have time, use the sklearn.linear_model.Lasso to regularize your model and select the most predictive\n",
        "# features. Which does it select? What are the RMSE and  𝑅2 ? We'll cover the Lasso later in detail in class."
      ],
      "metadata": {
        "id": "hK8EfRTqlNGu"
      },
      "execution_count": null,
      "outputs": []
    }
  ],
  "metadata": {
    "kernelspec": {
      "display_name": "base",
      "language": "python",
      "name": "python3"
    },
    "language_info": {
      "codemirror_mode": {
        "name": "ipython",
        "version": 3
      },
      "file_extension": ".py",
      "mimetype": "text/x-python",
      "name": "python",
      "nbconvert_exporter": "python",
      "pygments_lexer": "ipython3",
      "version": "3.12.2"
    },
    "colab": {
      "provenance": []
    }
  },
  "nbformat": 4,
  "nbformat_minor": 0
}